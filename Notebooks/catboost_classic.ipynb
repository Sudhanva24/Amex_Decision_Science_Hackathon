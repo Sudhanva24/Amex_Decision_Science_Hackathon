{
 "cells": [
  {
   "cell_type": "code",
   "execution_count": 21,
   "id": "85791d33",
   "metadata": {},
   "outputs": [],
   "source": [
    "import pandas as pd\n",
    "import numpy as np\n",
    "import catboost\n",
    "from catboost import CatBoostClassifier"
   ]
  },
  {
   "cell_type": "code",
   "execution_count": 13,
   "id": "ce6dcff3",
   "metadata": {},
   "outputs": [],
   "source": [
    "train=pd.read_parquet('../Data/small_train_engineered.parquet')\n",
    "val=pd.read_parquet('../Data/small_val_engineered.parquet')"
   ]
  },
  {
   "cell_type": "code",
   "execution_count": 14,
   "id": "7c953564",
   "metadata": {},
   "outputs": [],
   "source": [
    "# --- YOUR HACKATHON METRIC FUNCTION ---\n",
    "def map_at_k_hackathon(y_true, y_pred_scores, group_ids, k=7):\n",
    "    \"\"\"\n",
    "    Calculates the Mean Average Precision at k.\n",
    "    \"\"\"\n",
    "    df = pd.DataFrame({'group': group_ids, 'y_true': y_true, 'score': y_pred_scores})\n",
    "    \n",
    "    average_precisions = []\n",
    "    total_relevant_per_group = df[df['y_true'] == 1].groupby('group')['y_true'].count()\n",
    "\n",
    "    for group_id, group_df in df.groupby('group'):\n",
    "        total_relevant = total_relevant_per_group.get(group_id, 0)\n",
    "        if total_relevant == 0:\n",
    "            continue\n",
    "\n",
    "        group_df = group_df.sort_values('score', ascending=False).head(k)\n",
    "        \n",
    "        hits = 0\n",
    "        precision_sum = 0.0\n",
    "        \n",
    "        for i, row in enumerate(group_df.itertuples(index=False)):\n",
    "            rank = i + 1\n",
    "            if row.y_true == 1:\n",
    "                hits += 1\n",
    "                precision_at_k = hits / rank\n",
    "                precision_sum += precision_at_k\n",
    "        \n",
    "        ap = precision_sum / total_relevant\n",
    "        average_precisions.append(ap)\n",
    "\n",
    "    return np.mean(average_precisions) if average_precisions else 0.0\n"
   ]
  },
  {
   "cell_type": "code",
   "execution_count": 15,
   "id": "a73477d7",
   "metadata": {},
   "outputs": [
    {
     "name": "stdout",
     "output_type": "stream",
     "text": [
      "Successfully handled null values.\n"
     ]
    }
   ],
   "source": [
    "cat_features_names = train.select_dtypes(include=['category']).columns.tolist()\n",
    "for df in [train, val]:\n",
    "    for col in cat_features_names:\n",
    "        if df[col].dtype.name == 'category':\n",
    "            df[col] = df[col].cat.add_categories('NA')\n",
    "    df[cat_features_names] = df[cat_features_names].fillna('NA')\n",
    "print(\"Successfully handled null values.\")"
   ]
  },
  {
   "cell_type": "code",
   "execution_count": 16,
   "id": "a58ac974",
   "metadata": {},
   "outputs": [],
   "source": [
    "cat_features_names.remove('id2')\n",
    "cat_features_names.remove('id3')"
   ]
  },
  {
   "cell_type": "code",
   "execution_count": 17,
   "id": "d2278e54",
   "metadata": {},
   "outputs": [],
   "source": [
    "TARGET = 'y'\n",
    "FEATURES = [col for col in train.columns if col not in [TARGET, 'id2', 'id3','id4','id5']]\n",
    "X_train = train[FEATURES]\n",
    "y_train = train[TARGET]\n",
    "X_val = val[FEATURES]\n",
    "y_val = val[TARGET]\n",
    "cat_features_indices = [X_train.columns.get_loc(col) for col in cat_features_names]"
   ]
  },
  {
   "cell_type": "code",
   "execution_count": 22,
   "id": "8092991f",
   "metadata": {},
   "outputs": [],
   "source": [
    "model = CatBoostClassifier(\n",
    "    iterations=1500,\n",
    "    learning_rate=0.05,\n",
    "    verbose=100,\n",
    "    random_seed=42,\n",
    "    cat_features=cat_features_indices\n",
    ")"
   ]
  },
  {
   "cell_type": "code",
   "execution_count": 23,
   "id": "0da315a6",
   "metadata": {},
   "outputs": [
    {
     "name": "stdout",
     "output_type": "stream",
     "text": [
      "\n",
      "Starting CatBoost model training...\n",
      "0:\tlearn: 0.6084671\ttest: 0.6039701\tbest: 0.6039701 (0)\ttotal: 186ms\tremaining: 4m 38s\n",
      "100:\tlearn: 0.0911175\ttest: 0.1073385\tbest: 0.1071801 (98)\ttotal: 11s\tremaining: 2m 32s\n",
      "200:\tlearn: 0.0777198\ttest: 0.1054707\tbest: 0.1053802 (195)\ttotal: 20.4s\tremaining: 2m 11s\n",
      "300:\tlearn: 0.0711087\ttest: 0.1050789\tbest: 0.1045662 (269)\ttotal: 29.5s\tremaining: 1m 57s\n",
      "Stopped by overfitting detector  (50 iterations wait)\n",
      "\n",
      "bestTest = 0.1045661923\n",
      "bestIteration = 269\n",
      "\n",
      "Shrink model to first 270 iterations.\n"
     ]
    },
    {
     "data": {
      "text/plain": [
       "<catboost.core.CatBoostClassifier at 0x1776519a0>"
      ]
     },
     "execution_count": 23,
     "metadata": {},
     "output_type": "execute_result"
    }
   ],
   "source": [
    "print(\"\\nStarting CatBoost model training...\")\n",
    "model.fit(\n",
    "    X_train, y_train,\n",
    "    eval_set=(X_val, y_val),\n",
    "    early_stopping_rounds=50,\n",
    "    use_best_model=True\n",
    ")\n"
   ]
  },
  {
   "cell_type": "code",
   "execution_count": 24,
   "id": "18f223d5",
   "metadata": {},
   "outputs": [
    {
     "name": "stderr",
     "output_type": "stream",
     "text": [
      "/var/folders/7w/qs77cz_11630n9gydm61vjpc0000gn/T/ipykernel_37814/3676040123.py:9: FutureWarning: The default of observed=False is deprecated and will be changed to True in a future version of pandas. Pass observed=False to retain current behavior or observed=True to adopt the future default and silence this warning.\n",
      "  total_relevant_per_group = df[df['y_true'] == 1].groupby('group')['y_true'].count()\n",
      "/var/folders/7w/qs77cz_11630n9gydm61vjpc0000gn/T/ipykernel_37814/3676040123.py:11: FutureWarning: The default of observed=False is deprecated and will be changed to True in a future version of pandas. Pass observed=False to retain current behavior or observed=True to adopt the future default and silence this warning.\n",
      "  for group_id, group_df in df.groupby('group'):\n"
     ]
    },
    {
     "name": "stdout",
     "output_type": "stream",
     "text": [
      "\n",
      "--- Final Hackathon Score ---\n",
      "MAP@7 on the validation set: 0.4892\n"
     ]
    }
   ],
   "source": [
    "val_probabilities = model.predict_proba(X_val)[:, 1]\n",
    "\n",
    "# Calculate your final MAP@7 score using your function\n",
    "final_map_score = map_at_k_hackathon(\n",
    "    y_true=y_val,\n",
    "    y_pred_scores=val_probabilities,\n",
    "    group_ids=val['id2'],\n",
    "    k=7\n",
    ")\n",
    "\n",
    "print(\"\\n--- Final Hackathon Score ---\")\n",
    "print(f\"MAP@7 on the validation set: {final_map_score:.4f}\")"
   ]
  },
  {
   "cell_type": "code",
   "execution_count": null,
   "id": "adf8184e",
   "metadata": {},
   "outputs": [],
   "source": []
  }
 ],
 "metadata": {
  "kernelspec": {
   "display_name": "base",
   "language": "python",
   "name": "python3"
  },
  "language_info": {
   "codemirror_mode": {
    "name": "ipython",
    "version": 3
   },
   "file_extension": ".py",
   "mimetype": "text/x-python",
   "name": "python",
   "nbconvert_exporter": "python",
   "pygments_lexer": "ipython3",
   "version": "3.12.7"
  }
 },
 "nbformat": 4,
 "nbformat_minor": 5
}
